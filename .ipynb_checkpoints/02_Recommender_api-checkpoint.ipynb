{
 "cells": [
  {
   "cell_type": "code",
   "execution_count": 1,
   "metadata": {},
   "outputs": [],
   "source": [
    "import pandas as pd\n",
    "import seaborn as sns\n",
    "import matplotlib.pyplot as plt\n",
    "import numpy as np\n",
    "import ast\n",
    "import pickle\n",
    "\n",
    "from collections import Counter\n",
    "from scipy import sparse\n",
    "from sklearn.metrics.pairwise import cosine_similarity"
   ]
  },
  {
   "cell_type": "code",
   "execution_count": 94,
   "metadata": {},
   "outputs": [],
   "source": [
    "def one_hot(lst, possible):\n",
    "    one_hot_list = [0 for x in possible]\n",
    "    for i,j in enumerate(possible):\n",
    "        print(i,j)\n",
    "        if j in lst:\n",
    "            one_hot_list[i]=1\n",
    "    return one_hot_list"
   ]
  },
  {
   "cell_type": "code",
   "execution_count": 123,
   "metadata": {},
   "outputs": [],
   "source": [
    "def predict(users_purchases):\n",
    "    \"\"\"\n",
    "    This currently cannot handle  a vareity of situations\n",
    "        - if it is a new customer with no purchases\n",
    "        - if the customer has made a purchase that is not in the similarity matrix\n",
    "        - if the customer has purchased all items in the similarity matrix\n",
    "    \"\"\"\n",
    "    \n",
    "    if len(users_purchases) == 0:\n",
    "        # insert some business logic \n",
    "        print('length zero')\n",
    "        pass\n",
    "\n",
    "    \n",
    "    similarity_matrix = pickle.load(open( \"recommender_data.p\", \"rb\" ))\n",
    "    possible_ids = pickle.load(open( \"possible_ids.p\", \"rb\" ))\n",
    "    \n",
    "    user_rating_vector = one_hot(user_purchases, possible_ids)\n",
    "    score = similarity_matrix.dot(user_rating_vector).div(similarity_matrix.sum(axis=1))\n",
    "    \n",
    "    df = score.drop(user_purchases).reset_index()\n",
    "    df.columns = ['product_id', 'score']\n",
    "    payload = df.sort_values('score', ascending = False).to_dict()\n",
    "    \n",
    "    return payload\n",
    "    \n"
   ]
  },
  {
   "cell_type": "code",
   "execution_count": 134,
   "metadata": {},
   "outputs": [],
   "source": [
    "user_purchases = [10834, 63288]"
   ]
  },
  {
   "cell_type": "code",
   "execution_count": 137,
   "metadata": {},
   "outputs": [
    {
     "ename": "FileNotFoundError",
     "evalue": "[Errno 2] No such file or directory: 'recommender_data.p'",
     "output_type": "error",
     "traceback": [
      "\u001b[0;31m---------------------------------------------------------------------------\u001b[0m",
      "\u001b[0;31mFileNotFoundError\u001b[0m                         Traceback (most recent call last)",
      "\u001b[0;32m<ipython-input-137-afffb81e9848>\u001b[0m in \u001b[0;36m<module>\u001b[0;34m\u001b[0m\n\u001b[0;32m----> 1\u001b[0;31m \u001b[0mpayload\u001b[0m \u001b[0;34m=\u001b[0m \u001b[0mpredict\u001b[0m\u001b[0;34m(\u001b[0m\u001b[0muser_purchases\u001b[0m\u001b[0;34m)\u001b[0m\u001b[0;34m\u001b[0m\u001b[0;34m\u001b[0m\u001b[0m\n\u001b[0m",
      "\u001b[0;32m<ipython-input-123-fcb1c443c4e0>\u001b[0m in \u001b[0;36mpredict\u001b[0;34m(users_purchases)\u001b[0m\n\u001b[1;32m      7\u001b[0m \u001b[0;34m\u001b[0m\u001b[0m\n\u001b[1;32m      8\u001b[0m \u001b[0;34m\u001b[0m\u001b[0m\n\u001b[0;32m----> 9\u001b[0;31m     \u001b[0msimilarity_matrix\u001b[0m \u001b[0;34m=\u001b[0m \u001b[0mpickle\u001b[0m\u001b[0;34m.\u001b[0m\u001b[0mload\u001b[0m\u001b[0;34m(\u001b[0m\u001b[0mopen\u001b[0m\u001b[0;34m(\u001b[0m \u001b[0;34m\"recommender_data.p\"\u001b[0m\u001b[0;34m,\u001b[0m \u001b[0;34m\"rb\"\u001b[0m \u001b[0;34m)\u001b[0m\u001b[0;34m)\u001b[0m\u001b[0;34m\u001b[0m\u001b[0;34m\u001b[0m\u001b[0m\n\u001b[0m\u001b[1;32m     10\u001b[0m     \u001b[0mpossible_ids\u001b[0m \u001b[0;34m=\u001b[0m \u001b[0mpickle\u001b[0m\u001b[0;34m.\u001b[0m\u001b[0mload\u001b[0m\u001b[0;34m(\u001b[0m\u001b[0mopen\u001b[0m\u001b[0;34m(\u001b[0m \u001b[0;34m\"possible_ids.p\"\u001b[0m\u001b[0;34m,\u001b[0m \u001b[0;34m\"rb\"\u001b[0m \u001b[0;34m)\u001b[0m\u001b[0;34m)\u001b[0m\u001b[0;34m\u001b[0m\u001b[0;34m\u001b[0m\u001b[0m\n\u001b[1;32m     11\u001b[0m \u001b[0;34m\u001b[0m\u001b[0m\n",
      "\u001b[0;31mFileNotFoundError\u001b[0m: [Errno 2] No such file or directory: 'recommender_data.p'"
     ]
    }
   ],
   "source": [
    "payload = predict(user_purchases)"
   ]
  },
  {
   "cell_type": "code",
   "execution_count": 136,
   "metadata": {},
   "outputs": [
    {
     "data": {
      "text/plain": [
       "{'product_id': {3: 125830, 0: 7881, 2: 62040, 1: 61603},\n",
       " 'score': {3: 0.3717845341356073,\n",
       "  0: 0.3476661643484273,\n",
       "  2: 0.3282639756004625,\n",
       "  1: 0.30891233577930277}}"
      ]
     },
     "execution_count": 136,
     "metadata": {},
     "output_type": "execute_result"
    }
   ],
   "source": [
    "payload"
   ]
  },
  {
   "cell_type": "code",
   "execution_count": null,
   "metadata": {},
   "outputs": [],
   "source": []
  }
 ],
 "metadata": {
  "kernelspec": {
   "display_name": "Python 3",
   "language": "python",
   "name": "python3"
  },
  "language_info": {
   "codemirror_mode": {
    "name": "ipython",
    "version": 3
   },
   "file_extension": ".py",
   "mimetype": "text/x-python",
   "name": "python",
   "nbconvert_exporter": "python",
   "pygments_lexer": "ipython3",
   "version": "3.8.5"
  }
 },
 "nbformat": 4,
 "nbformat_minor": 4
}
