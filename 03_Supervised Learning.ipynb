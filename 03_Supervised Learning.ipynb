{
 "cells": [
  {
   "cell_type": "code",
   "execution_count": 304,
   "metadata": {},
   "outputs": [],
   "source": [
    "import pandas as pd\n",
    "import seaborn as sns\n",
    "import matplotlib.pyplot as plt\n",
    "import numpy as np\n",
    "import ast\n",
    "import pickle\n",
    "import os\n",
    "\n",
    "from sklearn import preprocessing\n",
    "from helper import one_hot\n",
    "from sklearn.model_selection import train_test_split\n",
    "from sklearn import model_selection\n",
    "from sklearn.ensemble import RandomForestClassifier\n",
    "from sklearn.metrics import classification_report, plot_confusion_matrix\n",
    "from sklearn.model_selection import StratifiedKFold, KFold\n",
    "from sklearn.metrics import roc_curve, auc\n",
    "from sklearn.preprocessing import label_binarize"
   ]
  },
  {
   "cell_type": "code",
   "execution_count": 305,
   "metadata": {},
   "outputs": [],
   "source": [
    "case = pickle.load(open(\"cleaned_data.p\", 'rb'))\n",
    "possible_ids = pickle.load(open(\"possible_ids.p\",'rb'))"
   ]
  },
  {
   "cell_type": "code",
   "execution_count": 306,
   "metadata": {},
   "outputs": [],
   "source": [
    "product_ids_list = list(map(eval,case.product_ids.values))"
   ]
  },
  {
   "cell_type": "code",
   "execution_count": 307,
   "metadata": {},
   "outputs": [],
   "source": [
    "products_purchased = one_hot(product_ids_list, possible_ids)"
   ]
  },
  {
   "cell_type": "code",
   "execution_count": 308,
   "metadata": {},
   "outputs": [
    {
     "data": {
      "text/html": [
       "<div>\n",
       "<style scoped>\n",
       "    .dataframe tbody tr th:only-of-type {\n",
       "        vertical-align: middle;\n",
       "    }\n",
       "\n",
       "    .dataframe tbody tr th {\n",
       "        vertical-align: top;\n",
       "    }\n",
       "\n",
       "    .dataframe thead th {\n",
       "        text-align: right;\n",
       "    }\n",
       "</style>\n",
       "<table border=\"1\" class=\"dataframe\">\n",
       "  <thead>\n",
       "    <tr style=\"text-align: right;\">\n",
       "      <th></th>\n",
       "      <th>7881</th>\n",
       "      <th>10834</th>\n",
       "      <th>61603</th>\n",
       "      <th>62040</th>\n",
       "      <th>63288</th>\n",
       "      <th>125830</th>\n",
       "    </tr>\n",
       "  </thead>\n",
       "  <tbody>\n",
       "    <tr>\n",
       "      <th>0</th>\n",
       "      <td>1</td>\n",
       "      <td>1</td>\n",
       "      <td>1</td>\n",
       "      <td>1</td>\n",
       "      <td>1</td>\n",
       "      <td>1</td>\n",
       "    </tr>\n",
       "    <tr>\n",
       "      <th>1</th>\n",
       "      <td>0</td>\n",
       "      <td>1</td>\n",
       "      <td>1</td>\n",
       "      <td>1</td>\n",
       "      <td>1</td>\n",
       "      <td>1</td>\n",
       "    </tr>\n",
       "    <tr>\n",
       "      <th>2</th>\n",
       "      <td>0</td>\n",
       "      <td>0</td>\n",
       "      <td>0</td>\n",
       "      <td>0</td>\n",
       "      <td>1</td>\n",
       "      <td>1</td>\n",
       "    </tr>\n",
       "    <tr>\n",
       "      <th>3</th>\n",
       "      <td>1</td>\n",
       "      <td>1</td>\n",
       "      <td>0</td>\n",
       "      <td>0</td>\n",
       "      <td>0</td>\n",
       "      <td>0</td>\n",
       "    </tr>\n",
       "    <tr>\n",
       "      <th>4</th>\n",
       "      <td>1</td>\n",
       "      <td>1</td>\n",
       "      <td>0</td>\n",
       "      <td>1</td>\n",
       "      <td>1</td>\n",
       "      <td>1</td>\n",
       "    </tr>\n",
       "    <tr>\n",
       "      <th>...</th>\n",
       "      <td>...</td>\n",
       "      <td>...</td>\n",
       "      <td>...</td>\n",
       "      <td>...</td>\n",
       "      <td>...</td>\n",
       "      <td>...</td>\n",
       "    </tr>\n",
       "    <tr>\n",
       "      <th>95</th>\n",
       "      <td>0</td>\n",
       "      <td>0</td>\n",
       "      <td>0</td>\n",
       "      <td>0</td>\n",
       "      <td>1</td>\n",
       "      <td>1</td>\n",
       "    </tr>\n",
       "    <tr>\n",
       "      <th>96</th>\n",
       "      <td>0</td>\n",
       "      <td>0</td>\n",
       "      <td>0</td>\n",
       "      <td>0</td>\n",
       "      <td>1</td>\n",
       "      <td>1</td>\n",
       "    </tr>\n",
       "    <tr>\n",
       "      <th>97</th>\n",
       "      <td>1</td>\n",
       "      <td>1</td>\n",
       "      <td>0</td>\n",
       "      <td>0</td>\n",
       "      <td>0</td>\n",
       "      <td>0</td>\n",
       "    </tr>\n",
       "    <tr>\n",
       "      <th>98</th>\n",
       "      <td>1</td>\n",
       "      <td>1</td>\n",
       "      <td>0</td>\n",
       "      <td>1</td>\n",
       "      <td>1</td>\n",
       "      <td>1</td>\n",
       "    </tr>\n",
       "    <tr>\n",
       "      <th>99</th>\n",
       "      <td>1</td>\n",
       "      <td>1</td>\n",
       "      <td>1</td>\n",
       "      <td>0</td>\n",
       "      <td>0</td>\n",
       "      <td>0</td>\n",
       "    </tr>\n",
       "  </tbody>\n",
       "</table>\n",
       "<p>100 rows × 6 columns</p>\n",
       "</div>"
      ],
      "text/plain": [
       "    7881    10834   61603   62040   63288   125830\n",
       "0        1       1       1       1       1       1\n",
       "1        0       1       1       1       1       1\n",
       "2        0       0       0       0       1       1\n",
       "3        1       1       0       0       0       0\n",
       "4        1       1       0       1       1       1\n",
       "..     ...     ...     ...     ...     ...     ...\n",
       "95       0       0       0       0       1       1\n",
       "96       0       0       0       0       1       1\n",
       "97       1       1       0       0       0       0\n",
       "98       1       1       0       1       1       1\n",
       "99       1       1       1       0       0       0\n",
       "\n",
       "[100 rows x 6 columns]"
      ]
     },
     "execution_count": 308,
     "metadata": {},
     "output_type": "execute_result"
    }
   ],
   "source": [
    "products_purchased"
   ]
  },
  {
   "cell_type": "code",
   "execution_count": 309,
   "metadata": {},
   "outputs": [],
   "source": [
    "# one hot encode products and gender\n",
    "case = case.drop('product_ids',axis=1).join(products_purchased)\n",
    "case = case.drop('gender', axis=1).join(pd.get_dummies(case.gender).rename(columns={0:'male',1:'female'}))"
   ]
  },
  {
   "cell_type": "code",
   "execution_count": 310,
   "metadata": {},
   "outputs": [
    {
     "data": {
      "text/html": [
       "<div>\n",
       "<style scoped>\n",
       "    .dataframe tbody tr th:only-of-type {\n",
       "        vertical-align: middle;\n",
       "    }\n",
       "\n",
       "    .dataframe tbody tr th {\n",
       "        vertical-align: top;\n",
       "    }\n",
       "\n",
       "    .dataframe thead th {\n",
       "        text-align: right;\n",
       "    }\n",
       "</style>\n",
       "<table border=\"1\" class=\"dataframe\">\n",
       "  <thead>\n",
       "    <tr style=\"text-align: right;\">\n",
       "      <th></th>\n",
       "      <th>revenue</th>\n",
       "      <th>loyalty</th>\n",
       "      <th>days_since_last_contact</th>\n",
       "      <th>0ne.hot.1</th>\n",
       "      <th>0ne.hot.2</th>\n",
       "      <th>0ne.hot.3</th>\n",
       "      <th>0ne.hot.4</th>\n",
       "      <th>item_count</th>\n",
       "      <th>7881</th>\n",
       "      <th>10834</th>\n",
       "      <th>61603</th>\n",
       "      <th>62040</th>\n",
       "      <th>63288</th>\n",
       "      <th>125830</th>\n",
       "      <th>male</th>\n",
       "      <th>female</th>\n",
       "    </tr>\n",
       "  </thead>\n",
       "  <tbody>\n",
       "    <tr>\n",
       "      <th>0</th>\n",
       "      <td>4</td>\n",
       "      <td>-1.33</td>\n",
       "      <td>2</td>\n",
       "      <td>1</td>\n",
       "      <td>0</td>\n",
       "      <td>0</td>\n",
       "      <td>0</td>\n",
       "      <td>6</td>\n",
       "      <td>1</td>\n",
       "      <td>1</td>\n",
       "      <td>1</td>\n",
       "      <td>1</td>\n",
       "      <td>1</td>\n",
       "      <td>1</td>\n",
       "      <td>1</td>\n",
       "      <td>0</td>\n",
       "    </tr>\n",
       "    <tr>\n",
       "      <th>1</th>\n",
       "      <td>6</td>\n",
       "      <td>-0.28</td>\n",
       "      <td>3</td>\n",
       "      <td>1</td>\n",
       "      <td>0</td>\n",
       "      <td>0</td>\n",
       "      <td>0</td>\n",
       "      <td>5</td>\n",
       "      <td>0</td>\n",
       "      <td>1</td>\n",
       "      <td>1</td>\n",
       "      <td>1</td>\n",
       "      <td>1</td>\n",
       "      <td>1</td>\n",
       "      <td>1</td>\n",
       "      <td>0</td>\n",
       "    </tr>\n",
       "    <tr>\n",
       "      <th>2</th>\n",
       "      <td>5</td>\n",
       "      <td>-0.22</td>\n",
       "      <td>1</td>\n",
       "      <td>1</td>\n",
       "      <td>0</td>\n",
       "      <td>0</td>\n",
       "      <td>0</td>\n",
       "      <td>2</td>\n",
       "      <td>0</td>\n",
       "      <td>0</td>\n",
       "      <td>0</td>\n",
       "      <td>0</td>\n",
       "      <td>1</td>\n",
       "      <td>1</td>\n",
       "      <td>0</td>\n",
       "      <td>1</td>\n",
       "    </tr>\n",
       "    <tr>\n",
       "      <th>3</th>\n",
       "      <td>7</td>\n",
       "      <td>-0.29</td>\n",
       "      <td>0</td>\n",
       "      <td>0</td>\n",
       "      <td>1</td>\n",
       "      <td>0</td>\n",
       "      <td>0</td>\n",
       "      <td>2</td>\n",
       "      <td>1</td>\n",
       "      <td>1</td>\n",
       "      <td>0</td>\n",
       "      <td>0</td>\n",
       "      <td>0</td>\n",
       "      <td>0</td>\n",
       "      <td>1</td>\n",
       "      <td>0</td>\n",
       "    </tr>\n",
       "    <tr>\n",
       "      <th>4</th>\n",
       "      <td>4</td>\n",
       "      <td>1.06</td>\n",
       "      <td>5</td>\n",
       "      <td>0</td>\n",
       "      <td>0</td>\n",
       "      <td>1</td>\n",
       "      <td>0</td>\n",
       "      <td>5</td>\n",
       "      <td>1</td>\n",
       "      <td>1</td>\n",
       "      <td>0</td>\n",
       "      <td>1</td>\n",
       "      <td>1</td>\n",
       "      <td>1</td>\n",
       "      <td>1</td>\n",
       "      <td>0</td>\n",
       "    </tr>\n",
       "    <tr>\n",
       "      <th>...</th>\n",
       "      <td>...</td>\n",
       "      <td>...</td>\n",
       "      <td>...</td>\n",
       "      <td>...</td>\n",
       "      <td>...</td>\n",
       "      <td>...</td>\n",
       "      <td>...</td>\n",
       "      <td>...</td>\n",
       "      <td>...</td>\n",
       "      <td>...</td>\n",
       "      <td>...</td>\n",
       "      <td>...</td>\n",
       "      <td>...</td>\n",
       "      <td>...</td>\n",
       "      <td>...</td>\n",
       "      <td>...</td>\n",
       "    </tr>\n",
       "    <tr>\n",
       "      <th>95</th>\n",
       "      <td>5</td>\n",
       "      <td>-0.22</td>\n",
       "      <td>1</td>\n",
       "      <td>0</td>\n",
       "      <td>1</td>\n",
       "      <td>0</td>\n",
       "      <td>0</td>\n",
       "      <td>2</td>\n",
       "      <td>0</td>\n",
       "      <td>0</td>\n",
       "      <td>0</td>\n",
       "      <td>0</td>\n",
       "      <td>1</td>\n",
       "      <td>1</td>\n",
       "      <td>0</td>\n",
       "      <td>1</td>\n",
       "    </tr>\n",
       "    <tr>\n",
       "      <th>96</th>\n",
       "      <td>5</td>\n",
       "      <td>-0.29</td>\n",
       "      <td>5</td>\n",
       "      <td>0</td>\n",
       "      <td>0</td>\n",
       "      <td>0</td>\n",
       "      <td>1</td>\n",
       "      <td>2</td>\n",
       "      <td>0</td>\n",
       "      <td>0</td>\n",
       "      <td>0</td>\n",
       "      <td>0</td>\n",
       "      <td>1</td>\n",
       "      <td>1</td>\n",
       "      <td>1</td>\n",
       "      <td>0</td>\n",
       "    </tr>\n",
       "    <tr>\n",
       "      <th>97</th>\n",
       "      <td>8</td>\n",
       "      <td>1.09</td>\n",
       "      <td>9</td>\n",
       "      <td>0</td>\n",
       "      <td>0</td>\n",
       "      <td>0</td>\n",
       "      <td>1</td>\n",
       "      <td>2</td>\n",
       "      <td>1</td>\n",
       "      <td>1</td>\n",
       "      <td>0</td>\n",
       "      <td>0</td>\n",
       "      <td>0</td>\n",
       "      <td>0</td>\n",
       "      <td>0</td>\n",
       "      <td>1</td>\n",
       "    </tr>\n",
       "    <tr>\n",
       "      <th>98</th>\n",
       "      <td>1</td>\n",
       "      <td>-1.69</td>\n",
       "      <td>12</td>\n",
       "      <td>1</td>\n",
       "      <td>0</td>\n",
       "      <td>0</td>\n",
       "      <td>0</td>\n",
       "      <td>5</td>\n",
       "      <td>1</td>\n",
       "      <td>1</td>\n",
       "      <td>0</td>\n",
       "      <td>1</td>\n",
       "      <td>1</td>\n",
       "      <td>1</td>\n",
       "      <td>0</td>\n",
       "      <td>1</td>\n",
       "    </tr>\n",
       "    <tr>\n",
       "      <th>99</th>\n",
       "      <td>3</td>\n",
       "      <td>-1.71</td>\n",
       "      <td>1</td>\n",
       "      <td>1</td>\n",
       "      <td>0</td>\n",
       "      <td>0</td>\n",
       "      <td>0</td>\n",
       "      <td>3</td>\n",
       "      <td>1</td>\n",
       "      <td>1</td>\n",
       "      <td>1</td>\n",
       "      <td>0</td>\n",
       "      <td>0</td>\n",
       "      <td>0</td>\n",
       "      <td>1</td>\n",
       "      <td>0</td>\n",
       "    </tr>\n",
       "  </tbody>\n",
       "</table>\n",
       "<p>100 rows × 16 columns</p>\n",
       "</div>"
      ],
      "text/plain": [
       "    revenue  loyalty  days_since_last_contact  0ne.hot.1  0ne.hot.2  \\\n",
       "0         4    -1.33                        2          1          0   \n",
       "1         6    -0.28                        3          1          0   \n",
       "2         5    -0.22                        1          1          0   \n",
       "3         7    -0.29                        0          0          1   \n",
       "4         4     1.06                        5          0          0   \n",
       "..      ...      ...                      ...        ...        ...   \n",
       "95        5    -0.22                        1          0          1   \n",
       "96        5    -0.29                        5          0          0   \n",
       "97        8     1.09                        9          0          0   \n",
       "98        1    -1.69                       12          1          0   \n",
       "99        3    -1.71                        1          1          0   \n",
       "\n",
       "    0ne.hot.3  0ne.hot.4  item_count  7881  10834  61603  62040  63288  \\\n",
       "0           0          0           6     1      1      1      1      1   \n",
       "1           0          0           5     0      1      1      1      1   \n",
       "2           0          0           2     0      0      0      0      1   \n",
       "3           0          0           2     1      1      0      0      0   \n",
       "4           1          0           5     1      1      0      1      1   \n",
       "..        ...        ...         ...   ...    ...    ...    ...    ...   \n",
       "95          0          0           2     0      0      0      0      1   \n",
       "96          0          1           2     0      0      0      0      1   \n",
       "97          0          1           2     1      1      0      0      0   \n",
       "98          0          0           5     1      1      0      1      1   \n",
       "99          0          0           3     1      1      1      0      0   \n",
       "\n",
       "    125830  male  female  \n",
       "0        1     1       0  \n",
       "1        1     1       0  \n",
       "2        1     0       1  \n",
       "3        0     1       0  \n",
       "4        1     1       0  \n",
       "..     ...   ...     ...  \n",
       "95       1     0       1  \n",
       "96       1     1       0  \n",
       "97       0     0       1  \n",
       "98       1     0       1  \n",
       "99       0     1       0  \n",
       "\n",
       "[100 rows x 16 columns]"
      ]
     },
     "execution_count": 310,
     "metadata": {},
     "output_type": "execute_result"
    }
   ],
   "source": [
    "case"
   ]
  },
  {
   "cell_type": "markdown",
   "metadata": {},
   "source": [
    "## Predicting Revenue Group"
   ]
  },
  {
   "cell_type": "markdown",
   "metadata": {},
   "source": [
    "## Feature Selection"
   ]
  },
  {
   "cell_type": "markdown",
   "metadata": {},
   "source": [
    "# We can use Chi Square test to see if categorical variables are a good predictor of revenue\n",
    "\n",
    "Chi squared basically compares the actual number of occurences of a particular feature in a group and compares that with the expected group, using the chisquare distribution to determine the p value. The p-value is the likelihoof that the values occured by chance. If this value is low enough, we can say that the observed distribution is statistically significant and we should include it in our model. "
   ]
  },
  {
   "cell_type": "code",
   "execution_count": 311,
   "metadata": {},
   "outputs": [],
   "source": [
    "X = case.drop(['revenue',7881], axis=1)\n",
    "y = case.revenue\n",
    "X_train, X_test, y_train, y_test = train_test_split(X, y, test_size=0.2, random_state=42)\n",
    "chi_square_tabulated = case.drop(['loyalty','days_since_last_contact', 'item_count'], axis=1).groupby('revenue').sum()"
   ]
  },
  {
   "cell_type": "code",
   "execution_count": 312,
   "metadata": {},
   "outputs": [
    {
     "data": {
      "text/html": [
       "<div>\n",
       "<style scoped>\n",
       "    .dataframe tbody tr th:only-of-type {\n",
       "        vertical-align: middle;\n",
       "    }\n",
       "\n",
       "    .dataframe tbody tr th {\n",
       "        vertical-align: top;\n",
       "    }\n",
       "\n",
       "    .dataframe thead th {\n",
       "        text-align: right;\n",
       "    }\n",
       "</style>\n",
       "<table border=\"1\" class=\"dataframe\">\n",
       "  <thead>\n",
       "    <tr style=\"text-align: right;\">\n",
       "      <th></th>\n",
       "      <th>0ne.hot.1</th>\n",
       "      <th>0ne.hot.2</th>\n",
       "      <th>0ne.hot.3</th>\n",
       "      <th>0ne.hot.4</th>\n",
       "      <th>7881</th>\n",
       "      <th>10834</th>\n",
       "      <th>61603</th>\n",
       "      <th>62040</th>\n",
       "      <th>63288</th>\n",
       "      <th>125830</th>\n",
       "      <th>male</th>\n",
       "      <th>female</th>\n",
       "    </tr>\n",
       "    <tr>\n",
       "      <th>revenue</th>\n",
       "      <th></th>\n",
       "      <th></th>\n",
       "      <th></th>\n",
       "      <th></th>\n",
       "      <th></th>\n",
       "      <th></th>\n",
       "      <th></th>\n",
       "      <th></th>\n",
       "      <th></th>\n",
       "      <th></th>\n",
       "      <th></th>\n",
       "      <th></th>\n",
       "    </tr>\n",
       "  </thead>\n",
       "  <tbody>\n",
       "    <tr>\n",
       "      <th>1</th>\n",
       "      <td>4</td>\n",
       "      <td>0</td>\n",
       "      <td>0</td>\n",
       "      <td>0</td>\n",
       "      <td>4</td>\n",
       "      <td>4</td>\n",
       "      <td>2</td>\n",
       "      <td>3</td>\n",
       "      <td>3</td>\n",
       "      <td>3</td>\n",
       "      <td>0</td>\n",
       "      <td>4</td>\n",
       "    </tr>\n",
       "    <tr>\n",
       "      <th>2</th>\n",
       "      <td>0</td>\n",
       "      <td>0</td>\n",
       "      <td>3</td>\n",
       "      <td>0</td>\n",
       "      <td>1</td>\n",
       "      <td>1</td>\n",
       "      <td>0</td>\n",
       "      <td>1</td>\n",
       "      <td>3</td>\n",
       "      <td>3</td>\n",
       "      <td>0</td>\n",
       "      <td>3</td>\n",
       "    </tr>\n",
       "    <tr>\n",
       "      <th>3</th>\n",
       "      <td>7</td>\n",
       "      <td>0</td>\n",
       "      <td>0</td>\n",
       "      <td>0</td>\n",
       "      <td>6</td>\n",
       "      <td>7</td>\n",
       "      <td>5</td>\n",
       "      <td>3</td>\n",
       "      <td>3</td>\n",
       "      <td>3</td>\n",
       "      <td>4</td>\n",
       "      <td>3</td>\n",
       "    </tr>\n",
       "    <tr>\n",
       "      <th>4</th>\n",
       "      <td>3</td>\n",
       "      <td>0</td>\n",
       "      <td>6</td>\n",
       "      <td>0</td>\n",
       "      <td>9</td>\n",
       "      <td>9</td>\n",
       "      <td>5</td>\n",
       "      <td>5</td>\n",
       "      <td>5</td>\n",
       "      <td>5</td>\n",
       "      <td>9</td>\n",
       "      <td>0</td>\n",
       "    </tr>\n",
       "    <tr>\n",
       "      <th>5</th>\n",
       "      <td>13</td>\n",
       "      <td>1</td>\n",
       "      <td>3</td>\n",
       "      <td>1</td>\n",
       "      <td>6</td>\n",
       "      <td>9</td>\n",
       "      <td>6</td>\n",
       "      <td>3</td>\n",
       "      <td>12</td>\n",
       "      <td>12</td>\n",
       "      <td>7</td>\n",
       "      <td>11</td>\n",
       "    </tr>\n",
       "    <tr>\n",
       "      <th>6</th>\n",
       "      <td>3</td>\n",
       "      <td>0</td>\n",
       "      <td>3</td>\n",
       "      <td>0</td>\n",
       "      <td>4</td>\n",
       "      <td>5</td>\n",
       "      <td>5</td>\n",
       "      <td>3</td>\n",
       "      <td>4</td>\n",
       "      <td>4</td>\n",
       "      <td>6</td>\n",
       "      <td>0</td>\n",
       "    </tr>\n",
       "    <tr>\n",
       "      <th>7</th>\n",
       "      <td>0</td>\n",
       "      <td>6</td>\n",
       "      <td>0</td>\n",
       "      <td>6</td>\n",
       "      <td>8</td>\n",
       "      <td>8</td>\n",
       "      <td>1</td>\n",
       "      <td>2</td>\n",
       "      <td>6</td>\n",
       "      <td>6</td>\n",
       "      <td>12</td>\n",
       "      <td>0</td>\n",
       "    </tr>\n",
       "    <tr>\n",
       "      <th>8</th>\n",
       "      <td>0</td>\n",
       "      <td>6</td>\n",
       "      <td>0</td>\n",
       "      <td>10</td>\n",
       "      <td>11</td>\n",
       "      <td>14</td>\n",
       "      <td>8</td>\n",
       "      <td>6</td>\n",
       "      <td>8</td>\n",
       "      <td>8</td>\n",
       "      <td>6</td>\n",
       "      <td>10</td>\n",
       "    </tr>\n",
       "    <tr>\n",
       "      <th>9</th>\n",
       "      <td>0</td>\n",
       "      <td>3</td>\n",
       "      <td>1</td>\n",
       "      <td>9</td>\n",
       "      <td>9</td>\n",
       "      <td>13</td>\n",
       "      <td>9</td>\n",
       "      <td>12</td>\n",
       "      <td>12</td>\n",
       "      <td>12</td>\n",
       "      <td>1</td>\n",
       "      <td>12</td>\n",
       "    </tr>\n",
       "    <tr>\n",
       "      <th>10</th>\n",
       "      <td>0</td>\n",
       "      <td>6</td>\n",
       "      <td>0</td>\n",
       "      <td>6</td>\n",
       "      <td>6</td>\n",
       "      <td>12</td>\n",
       "      <td>12</td>\n",
       "      <td>11</td>\n",
       "      <td>11</td>\n",
       "      <td>11</td>\n",
       "      <td>6</td>\n",
       "      <td>6</td>\n",
       "    </tr>\n",
       "  </tbody>\n",
       "</table>\n",
       "</div>"
      ],
      "text/plain": [
       "         0ne.hot.1  0ne.hot.2  0ne.hot.3  0ne.hot.4  7881  10834  61603  \\\n",
       "revenue                                                                   \n",
       "1                4          0          0          0     4      4      2   \n",
       "2                0          0          3          0     1      1      0   \n",
       "3                7          0          0          0     6      7      5   \n",
       "4                3          0          6          0     9      9      5   \n",
       "5               13          1          3          1     6      9      6   \n",
       "6                3          0          3          0     4      5      5   \n",
       "7                0          6          0          6     8      8      1   \n",
       "8                0          6          0         10    11     14      8   \n",
       "9                0          3          1          9     9     13      9   \n",
       "10               0          6          0          6     6     12     12   \n",
       "\n",
       "         62040  63288  125830  male  female  \n",
       "revenue                                      \n",
       "1            3      3       3     0       4  \n",
       "2            1      3       3     0       3  \n",
       "3            3      3       3     4       3  \n",
       "4            5      5       5     9       0  \n",
       "5            3     12      12     7      11  \n",
       "6            3      4       4     6       0  \n",
       "7            2      6       6    12       0  \n",
       "8            6      8       8     6      10  \n",
       "9           12     12      12     1      12  \n",
       "10          11     11      11     6       6  "
      ]
     },
     "execution_count": 312,
     "metadata": {},
     "output_type": "execute_result"
    }
   ],
   "source": [
    "chi_square_tabulated"
   ]
  },
  {
   "cell_type": "code",
   "execution_count": 313,
   "metadata": {},
   "outputs": [],
   "source": [
    "from scipy.stats import chisquare"
   ]
  },
  {
   "cell_type": "code",
   "execution_count": 314,
   "metadata": {},
   "outputs": [
    {
     "data": {
      "text/html": [
       "<div>\n",
       "<style scoped>\n",
       "    .dataframe tbody tr th:only-of-type {\n",
       "        vertical-align: middle;\n",
       "    }\n",
       "\n",
       "    .dataframe tbody tr th {\n",
       "        vertical-align: top;\n",
       "    }\n",
       "\n",
       "    .dataframe thead th {\n",
       "        text-align: right;\n",
       "    }\n",
       "</style>\n",
       "<table border=\"1\" class=\"dataframe\">\n",
       "  <thead>\n",
       "    <tr style=\"text-align: right;\">\n",
       "      <th></th>\n",
       "      <th>0ne.hot.1</th>\n",
       "      <th>0ne.hot.2</th>\n",
       "      <th>0ne.hot.3</th>\n",
       "      <th>0ne.hot.4</th>\n",
       "      <th>7881</th>\n",
       "      <th>10834</th>\n",
       "      <th>61603</th>\n",
       "      <th>62040</th>\n",
       "      <th>63288</th>\n",
       "      <th>125830</th>\n",
       "      <th>male</th>\n",
       "      <th>female</th>\n",
       "    </tr>\n",
       "  </thead>\n",
       "  <tbody>\n",
       "    <tr>\n",
       "      <th>test statistic</th>\n",
       "      <td>5.400000e+01</td>\n",
       "      <td>31.636364</td>\n",
       "      <td>24.000000</td>\n",
       "      <td>4.737500e+01</td>\n",
       "      <td>12.25000</td>\n",
       "      <td>18.731707</td>\n",
       "      <td>23.415094</td>\n",
       "      <td>25.897959</td>\n",
       "      <td>19.119403</td>\n",
       "      <td>19.119403</td>\n",
       "      <td>27.235294</td>\n",
       "      <td>39.775510</td>\n",
       "    </tr>\n",
       "    <tr>\n",
       "      <th>p-value</th>\n",
       "      <td>1.887828e-08</td>\n",
       "      <td>0.000230</td>\n",
       "      <td>0.004301</td>\n",
       "      <td>3.341255e-07</td>\n",
       "      <td>0.19958</td>\n",
       "      <td>0.027573</td>\n",
       "      <td>0.005328</td>\n",
       "      <td>0.002123</td>\n",
       "      <td>0.024197</td>\n",
       "      <td>0.024197</td>\n",
       "      <td>0.001279</td>\n",
       "      <td>0.000008</td>\n",
       "    </tr>\n",
       "  </tbody>\n",
       "</table>\n",
       "</div>"
      ],
      "text/plain": [
       "                   0ne.hot.1  0ne.hot.2  0ne.hot.3     0ne.hot.4      7881  \\\n",
       "test statistic  5.400000e+01  31.636364  24.000000  4.737500e+01  12.25000   \n",
       "p-value         1.887828e-08   0.000230   0.004301  3.341255e-07   0.19958   \n",
       "\n",
       "                    10834      61603      62040      63288     125830  \\\n",
       "test statistic  18.731707  23.415094  25.897959  19.119403  19.119403   \n",
       "p-value          0.027573   0.005328   0.002123   0.024197   0.024197   \n",
       "\n",
       "                     male     female  \n",
       "test statistic  27.235294  39.775510  \n",
       "p-value          0.001279   0.000008  "
      ]
     },
     "execution_count": 314,
     "metadata": {},
     "output_type": "execute_result"
    }
   ],
   "source": [
    "chi_square_tabulated.apply(chisquare,axis=0).rename(index = {0:'test statistic', 1:'p-value'})"
   ]
  },
  {
   "cell_type": "markdown",
   "metadata": {},
   "source": [
    "The categorical values are overwhelmingly predictive of revenue, with the exception of 7881, which seems to within the normal limits of random variation"
   ]
  },
  {
   "cell_type": "markdown",
   "metadata": {},
   "source": [
    "### Let's also check the numeric features\n",
    "We will just look at the pearson correlation matrix and see if there is good evidence of correlation between numeric columns and loyaly. In this case it looks like all of them have a reasonable correlation, it might be work removing days since last contact or item count in one version of the model if we wanted to trim the model down."
   ]
  },
  {
   "cell_type": "code",
   "execution_count": 315,
   "metadata": {},
   "outputs": [
    {
     "data": {
      "text/html": [
       "<div>\n",
       "<style scoped>\n",
       "    .dataframe tbody tr th:only-of-type {\n",
       "        vertical-align: middle;\n",
       "    }\n",
       "\n",
       "    .dataframe tbody tr th {\n",
       "        vertical-align: top;\n",
       "    }\n",
       "\n",
       "    .dataframe thead th {\n",
       "        text-align: right;\n",
       "    }\n",
       "</style>\n",
       "<table border=\"1\" class=\"dataframe\">\n",
       "  <thead>\n",
       "    <tr style=\"text-align: right;\">\n",
       "      <th></th>\n",
       "      <th>revenue</th>\n",
       "      <th>loyalty</th>\n",
       "      <th>days_since_last_contact</th>\n",
       "      <th>item_count</th>\n",
       "    </tr>\n",
       "  </thead>\n",
       "  <tbody>\n",
       "    <tr>\n",
       "      <th>revenue</th>\n",
       "      <td>1.000000</td>\n",
       "      <td>0.460516</td>\n",
       "      <td>0.157572</td>\n",
       "      <td>0.244026</td>\n",
       "    </tr>\n",
       "    <tr>\n",
       "      <th>loyalty</th>\n",
       "      <td>0.460516</td>\n",
       "      <td>1.000000</td>\n",
       "      <td>0.552121</td>\n",
       "      <td>0.022150</td>\n",
       "    </tr>\n",
       "    <tr>\n",
       "      <th>days_since_last_contact</th>\n",
       "      <td>0.157572</td>\n",
       "      <td>0.552121</td>\n",
       "      <td>1.000000</td>\n",
       "      <td>-0.052322</td>\n",
       "    </tr>\n",
       "    <tr>\n",
       "      <th>item_count</th>\n",
       "      <td>0.244026</td>\n",
       "      <td>0.022150</td>\n",
       "      <td>-0.052322</td>\n",
       "      <td>1.000000</td>\n",
       "    </tr>\n",
       "  </tbody>\n",
       "</table>\n",
       "</div>"
      ],
      "text/plain": [
       "                          revenue   loyalty  days_since_last_contact  \\\n",
       "revenue                  1.000000  0.460516                 0.157572   \n",
       "loyalty                  0.460516  1.000000                 0.552121   \n",
       "days_since_last_contact  0.157572  0.552121                 1.000000   \n",
       "item_count               0.244026  0.022150                -0.052322   \n",
       "\n",
       "                         item_count  \n",
       "revenue                    0.244026  \n",
       "loyalty                    0.022150  \n",
       "days_since_last_contact   -0.052322  \n",
       "item_count                 1.000000  "
      ]
     },
     "execution_count": 315,
     "metadata": {},
     "output_type": "execute_result"
    }
   ],
   "source": [
    "case[['revenue','loyalty','days_since_last_contact','item_count']].corr()"
   ]
  },
  {
   "cell_type": "markdown",
   "metadata": {},
   "source": [
    "### one more thing, are the classes balanced?"
   ]
  },
  {
   "cell_type": "code",
   "execution_count": 316,
   "metadata": {},
   "outputs": [
    {
     "data": {
      "text/plain": [
       "<AxesSubplot:>"
      ]
     },
     "execution_count": 316,
     "metadata": {},
     "output_type": "execute_result"
    },
    {
     "data": {
      "image/png": "[encoded data removed]",
      "text/plain": [
       "<Figure size 432x288 with 1 Axes>"
      ]
     },
     "metadata": {
      "needs_background": "light"
     },
     "output_type": "display_data"
    }
   ],
   "source": [
    "case['revenue'].value_counts().plot.bar()"
   ]
  },
  {
   "cell_type": "markdown",
   "metadata": {},
   "source": [
    "it looks balanced enough that we would not run into the accuracy paradox, though we could try oversampling to balance classes. We could also run into issues where we don't get any of a few classes in the training or more likely the test set and then we wouldn't be able to evaluate the model. "
   ]
  },
  {
   "cell_type": "markdown",
   "metadata": {},
   "source": [
    "# Split into train and test for model evaluation"
   ]
  },
  {
   "cell_type": "code",
   "execution_count": 353,
   "metadata": {},
   "outputs": [],
   "source": [
    "X = case.drop(['revenue',7881], axis=1)\n",
    "y = case.revenue\n",
    "X_train, X_test, y_train, y_test = train_test_split(X, y, test_size=0.2, random_state=42, stratify=y)"
   ]
  },
  {
   "cell_type": "markdown",
   "metadata": {},
   "source": [
    "### Random Forest classifier"
   ]
  },
  {
   "cell_type": "code",
   "execution_count": 354,
   "metadata": {},
   "outputs": [],
   "source": [
    "# random forest model creation\n",
    "rfc = RandomForestClassifier()\n",
    "rfc.fit(X_train,y_train)\n",
    "# predictions\n",
    "rfc_predict = rfc.predict(X_test)"
   ]
  },
  {
   "cell_type": "code",
   "execution_count": 355,
   "metadata": {},
   "outputs": [
    {
     "data": {
      "text/plain": [
       "{'bootstrap': True,\n",
       " 'ccp_alpha': 0.0,\n",
       " 'class_weight': None,\n",
       " 'criterion': 'gini',\n",
       " 'max_depth': None,\n",
       " 'max_features': 'auto',\n",
       " 'max_leaf_nodes': None,\n",
       " 'max_samples': None,\n",
       " 'min_impurity_decrease': 0.0,\n",
       " 'min_impurity_split': None,\n",
       " 'min_samples_leaf': 1,\n",
       " 'min_samples_split': 2,\n",
       " 'min_weight_fraction_leaf': 0.0,\n",
       " 'n_estimators': 100,\n",
       " 'n_jobs': None,\n",
       " 'oob_score': False,\n",
       " 'random_state': None,\n",
       " 'verbose': 0,\n",
       " 'warm_start': False}"
      ]
     },
     "execution_count": 355,
     "metadata": {},
     "output_type": "execute_result"
    }
   ],
   "source": [
    "rfc.get_params()"
   ]
  },
  {
   "cell_type": "code",
   "execution_count": 356,
   "metadata": {},
   "outputs": [],
   "source": [
    "from sklearn.metrics import confusion_matrix"
   ]
  },
  {
   "cell_type": "markdown",
   "metadata": {},
   "source": [
    "# Confusion matrix\n",
    "The confusion matrix show the summary of the predictions. The x axis is the the actual class, and the y axis is the predicted class, typically referred to as i and j. The diagonal is where predictions matched the actuall class."
   ]
  },
  {
   "cell_type": "code",
   "execution_count": 357,
   "metadata": {},
   "outputs": [],
   "source": [
    "confusion = confusion_matrix(rfc_predict, y_test, labels = range(1,11))"
   ]
  },
  {
   "cell_type": "code",
   "execution_count": 358,
   "metadata": {},
   "outputs": [
    {
     "data": {
      "text/plain": [
       "array([[0, 0, 0, 0, 0, 0, 0, 0, 0, 0],\n",
       "       [0, 1, 0, 0, 0, 0, 0, 0, 0, 0],\n",
       "       [1, 0, 0, 0, 0, 0, 0, 0, 0, 0],\n",
       "       [0, 0, 0, 0, 0, 1, 0, 0, 0, 0],\n",
       "       [0, 0, 1, 0, 2, 0, 0, 0, 0, 0],\n",
       "       [0, 0, 0, 2, 2, 0, 0, 0, 1, 0],\n",
       "       [0, 0, 0, 0, 0, 0, 1, 0, 0, 0],\n",
       "       [0, 0, 0, 0, 0, 0, 1, 2, 0, 0],\n",
       "       [0, 0, 0, 0, 0, 0, 0, 1, 1, 0],\n",
       "       [0, 0, 0, 0, 0, 0, 0, 0, 1, 2]])"
      ]
     },
     "execution_count": 358,
     "metadata": {},
     "output_type": "execute_result"
    }
   ],
   "source": [
    "confusion"
   ]
  },
  {
   "cell_type": "markdown",
   "metadata": {},
   "source": [
    "Accuracy is defined as\n",
    "$$\\frac{TP+TN}{P+N}$$\n",
    "But in our case there is no TN because we have 10 classes."
   ]
  },
  {
   "cell_type": "code",
   "execution_count": 359,
   "metadata": {},
   "outputs": [
    {
     "data": {
      "text/plain": [
       "0.45"
      ]
     },
     "execution_count": 359,
     "metadata": {},
     "output_type": "execute_result"
    }
   ],
   "source": [
    "# Accuracy, correctly classified classes, considering 10 classes it it quite good\n",
    "np.diagonal(confusion).sum()/(confusion.sum())"
   ]
  },
  {
   "cell_type": "code",
   "execution_count": 360,
   "metadata": {},
   "outputs": [
    {
     "name": "stdout",
     "output_type": "stream",
     "text": [
      "1 :  0.0\n",
      "2 :  1.0\n",
      "3 :  0.0\n",
      "4 :  0.0\n",
      "5 :  0.5\n",
      "6 :  0.0\n",
      "7 :  0.5\n",
      "8 :  0.6666666666666666\n",
      "9 :  0.3333333333333333\n",
      "10 :  1.0\n"
     ]
    }
   ],
   "source": [
    "for i in range(0,10):\n",
    "    total_in_class = confusion[:,i].sum()\n",
    "    if total_in_class > 0:\n",
    "        accuracy = np.diagonal(confusion)[i]/total_in_class\n",
    "        print(i+1, \": \", accuracy)\n",
    "    else:\n",
    "        print(i+1, \": \", 'No examples')\n",
    "        "
   ]
  },
  {
   "cell_type": "markdown",
   "metadata": {},
   "source": [
    "# Stratified K-Fold"
   ]
  },
  {
   "cell_type": "code",
   "execution_count": 361,
   "metadata": {},
   "outputs": [],
   "source": [
    "skf = StratifiedKFold(n_splits=3)"
   ]
  },
  {
   "cell_type": "code",
   "execution_count": 363,
   "metadata": {},
   "outputs": [
    {
     "data": {
      "image/png": "[encoded data removed]",
      "text/plain": [
       "<Figure size 432x288 with 2 Axes>"
      ]
     },
     "metadata": {
      "needs_background": "light"
     },
     "output_type": "display_data"
    },
    {
     "name": "stdout",
     "output_type": "stream",
     "text": [
      "\n",
      "Mean Square Error: 2.088235294117647\n",
      "\n",
      "              precision    recall  f1-score   support\n",
      "\n",
      "           1       0.00      0.00      0.00         2\n",
      "           2       1.00      1.00      1.00         1\n",
      "           3       0.33      0.33      0.33         3\n",
      "           4       0.50      0.33      0.40         3\n",
      "           5       0.57      0.67      0.62         6\n",
      "           6       0.25      0.50      0.33         2\n",
      "           7       1.00      1.00      1.00         4\n",
      "           8       0.80      0.80      0.80         5\n",
      "           9       0.75      0.75      0.75         4\n",
      "          10       0.75      0.75      0.75         4\n",
      "\n",
      "    accuracy                           0.65        34\n",
      "   macro avg       0.60      0.61      0.60        34\n",
      "weighted avg       0.63      0.65      0.63        34\n",
      "\n"
     ]
    },
    {
     "name": "stderr",
     "output_type": "stream",
     "text": [
      "/usr/local/lib/python3.8/site-packages/sklearn/metrics/_classification.py:1221: UndefinedMetricWarning: Precision and F-score are ill-defined and being set to 0.0 in labels with no predicted samples. Use `zero_division` parameter to control this behavior.\n",
      "  _warn_prf(average, modifier, msg_start, len(result))\n"
     ]
    },
    {
     "data": {
      "image/png": "[encoded data removed]",
      "text/plain": [
       "<Figure size 432x288 with 2 Axes>"
      ]
     },
     "metadata": {
      "needs_background": "light"
     },
     "output_type": "display_data"
    },
    {
     "name": "stdout",
     "output_type": "stream",
     "text": [
      "\n",
      "Mean Square Error: 3.1818181818181817\n",
      "\n",
      "              precision    recall  f1-score   support\n",
      "\n",
      "           1       0.33      1.00      0.50         1\n",
      "           2       0.00      0.00      0.00         1\n",
      "           3       0.33      0.50      0.40         2\n",
      "           4       0.67      0.67      0.67         3\n",
      "           5       0.60      0.50      0.55         6\n",
      "           6       0.50      0.50      0.50         2\n",
      "           7       0.50      0.50      0.50         4\n",
      "           8       1.00      0.17      0.29         6\n",
      "           9       0.57      1.00      0.73         4\n",
      "          10       0.80      1.00      0.89         4\n",
      "\n",
      "    accuracy                           0.58        33\n",
      "   macro avg       0.53      0.58      0.50        33\n",
      "weighted avg       0.64      0.58      0.54        33\n",
      "\n"
     ]
    },
    {
     "name": "stderr",
     "output_type": "stream",
     "text": [
      "/usr/local/lib/python3.8/site-packages/sklearn/metrics/_classification.py:1221: UndefinedMetricWarning: Precision and F-score are ill-defined and being set to 0.0 in labels with no predicted samples. Use `zero_division` parameter to control this behavior.\n",
      "  _warn_prf(average, modifier, msg_start, len(result))\n"
     ]
    },
    {
     "data": {
      "image/png": "[encoded data removed]",
      "text/plain": [
       "<Figure size 432x288 with 2 Axes>"
      ]
     },
     "metadata": {
      "needs_background": "light"
     },
     "output_type": "display_data"
    },
    {
     "name": "stdout",
     "output_type": "stream",
     "text": [
      "\n",
      "Mean Square Error: 1.3636363636363635\n",
      "\n",
      "              precision    recall  f1-score   support\n",
      "\n",
      "           1       0.50      1.00      0.67         1\n",
      "           2       1.00      1.00      1.00         1\n",
      "           3       0.50      0.50      0.50         2\n",
      "           4       0.67      0.67      0.67         3\n",
      "           5       0.60      0.50      0.55         6\n",
      "           6       0.00      0.00      0.00         2\n",
      "           7       0.75      0.75      0.75         4\n",
      "           8       0.80      0.80      0.80         5\n",
      "           9       0.67      0.80      0.73         5\n",
      "          10       1.00      1.00      1.00         4\n",
      "\n",
      "    accuracy                           0.70        33\n",
      "   macro avg       0.65      0.70      0.67        33\n",
      "weighted avg       0.68      0.70      0.68        33\n",
      "\n"
     ]
    }
   ],
   "source": [
    "for train, test in skf.split(X, y):\n",
    "    rfc.fit(X.loc[train], y.loc[train])\n",
    "\n",
    "    # predictions\n",
    "    rfc_predict = rfc.predict(X.loc[test])\n",
    "    sns.heatmap(confusion_matrix(rfc_predict, y.loc[test], labels = range(1,11)), annot=True)\n",
    "    mse = np.sum(np.square(rfc_predict - y.loc[test]))/len(rfc_predict)\n",
    "    plt.show()\n",
    "    print()\n",
    "    print(\"Mean Square Error:\", mse)\n",
    "    print()\n",
    "    print(classification_report(y.loc[test],rfc_predict,labels = range(1,11)))\n"
   ]
  },
  {
   "cell_type": "markdown",
   "metadata": {},
   "source": [
    "You can see here that stratifying our classifier makes it much better, so now this algorithm takes similar proportions of each class in the test and train groups so that the classifier can see each class."
   ]
  },
  {
   "cell_type": "code",
   "execution_count": 364,
   "metadata": {},
   "outputs": [],
   "source": [
    "from sklearn.linear_model import LogisticRegression"
   ]
  },
  {
   "cell_type": "code",
   "execution_count": 368,
   "metadata": {},
   "outputs": [],
   "source": [
    "scaler = preprocessing.StandardScaler().fit(X.loc[train])\n",
    "X_scaled = scaler.transform(X.loc[train])"
   ]
  },
  {
   "cell_type": "code",
   "execution_count": 369,
   "metadata": {},
   "outputs": [],
   "source": [
    "lrclf = LogisticRegression()"
   ]
  },
  {
   "cell_type": "code",
   "execution_count": 370,
   "metadata": {},
   "outputs": [],
   "source": [
    "train,test = grouping[0]\n",
    "clf = lrclf.fit(X_scaled,y.loc[train])"
   ]
  },
  {
   "cell_type": "code",
   "execution_count": 371,
   "metadata": {},
   "outputs": [
    {
     "data": {
      "image/png": "[encoded data removed]",
      "text/plain": [
       "<Figure size 432x288 with 2 Axes>"
      ]
     },
     "metadata": {
      "needs_background": "light"
     },
     "output_type": "display_data"
    },
    {
     "name": "stdout",
     "output_type": "stream",
     "text": [
      "\n",
      "Mean Square Error: 1.5588235294117647\n",
      "\n",
      "              precision    recall  f1-score   support\n",
      "\n",
      "           1       1.00      0.50      0.67         2\n",
      "           2       1.00      1.00      1.00         1\n",
      "           3       0.33      0.33      0.33         3\n",
      "           4       0.50      0.33      0.40         3\n",
      "           5       0.50      0.50      0.50         6\n",
      "           6       0.20      0.50      0.29         2\n",
      "           7       0.80      1.00      0.89         4\n",
      "           8       0.40      0.40      0.40         5\n",
      "           9       0.67      0.50      0.57         4\n",
      "          10       0.67      0.50      0.57         4\n",
      "\n",
      "    accuracy                           0.53        34\n",
      "   macro avg       0.61      0.56      0.56        34\n",
      "weighted avg       0.57      0.53      0.54        34\n",
      "\n"
     ]
    }
   ],
   "source": [
    "X_test_scaled = scaler.transform(X.loc[test])\n",
    "lr_predict = clf.predict(X_test_scaled)\n",
    "sns.heatmap(confusion_matrix(lr_predict, y.loc[test], labels = range(1,11)), annot=True)\n",
    "mse = np.sum(np.square(lr_predict - y.loc[test]))/len(lr_predict)\n",
    "plt.show()\n",
    "print()\n",
    "print(\"Mean Square Error:\", mse)\n",
    "print()\n",
    "print(classification_report(y.loc[test],lr_predict,labels = range(1,11)))\n"
   ]
  },
  {
   "cell_type": "markdown",
   "metadata": {},
   "source": [
    "I did not do cross validation because we don't have a lot of data, some classes don't even have 5 observation"
   ]
  },
  {
   "cell_type": "code",
   "execution_count": null,
   "metadata": {},
   "outputs": [],
   "source": []
  }
 ],
 "metadata": {
  "kernelspec": {
   "display_name": "Python 3",
   "language": "python",
   "name": "python3"
  },
  "language_info": {
   "codemirror_mode": {
    "name": "ipython",
    "version": 3
   },
   "file_extension": ".py",
   "mimetype": "text/x-python",
   "name": "python",
   "nbconvert_exporter": "python",
   "pygments_lexer": "ipython3",
   "version": "3.8.5"
  }
 },
 "nbformat": 4,
 "nbformat_minor": 4
}
