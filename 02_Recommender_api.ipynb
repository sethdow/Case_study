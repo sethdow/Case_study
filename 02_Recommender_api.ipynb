{
 "cells": [
  {
   "cell_type": "code",
   "execution_count": 1,
   "metadata": {},
   "outputs": [],
   "source": [
    "import pandas as pd\n",
    "import seaborn as sns\n",
    "import matplotlib.pyplot as plt\n",
    "import numpy as np\n",
    "import ast\n",
    "import pickle\n",
    "import os\n",
    "\n",
    "from Migros.helper import one_hot, one_hot_one\n",
    "from collections import Counter\n",
    "from scipy import sparse\n",
    "from sklearn.metrics.pairwise import cosine_similarity"
   ]
  },
  {
   "cell_type": "code",
   "execution_count": 2,
   "metadata": {},
   "outputs": [],
   "source": [
    "similarity_matrix = pickle.load(open( \"Migros/recommender_data.p\", \"rb\" ))\n",
    "possible_ids = pickle.load(open( \"possible_ids.p\", \"rb\" ))"
   ]
  },
  {
   "cell_type": "code",
   "execution_count": 3,
   "metadata": {},
   "outputs": [],
   "source": [
    "def predict(user_purchases):\n",
    "    \"\"\"\n",
    "    This currently cannot handle  a variety of situations\n",
    "        - if it is a new customer with no purchases\n",
    "        - if the customer has made a purchase that is not in the similarity matrix\n",
    "        - if the customer has purchased all items in the similarity matrix\n",
    "    \"\"\"\n",
    "    \n",
    "    if len(user_purchases) == 0:\n",
    "        pop_dict = pickle.load(open('Migros/popular_items.p', 'rb'))\n",
    "        return pop_dict\n",
    "    \n",
    "    user_rating_vector = one_hot_one(user_purchases, possible_ids)\n",
    "    score = user_rating_vector.dot(similarity_matrix).transpose().div(pd.DataFrame(similarity_matrix.sum(axis=1)))\n",
    "    \n",
    "    df = score.drop(user_purchases).reset_index()\n",
    "    print(df)\n",
    "    df.columns = ['product_id', 'score']\n",
    "    payload = df.sort_values('score', ascending = False).reset_index(drop=True).to_dict()\n",
    "    \n",
    "    return payload\n",
    "    \n"
   ]
  },
  {
   "cell_type": "code",
   "execution_count": 9,
   "metadata": {},
   "outputs": [
    {
     "data": {
      "text/plain": [
       "[7881, 10834, 61603, 62040, 63288, 125830]"
      ]
     },
     "execution_count": 9,
     "metadata": {},
     "output_type": "execute_result"
    }
   ],
   "source": [
    "possible_ids"
   ]
  },
  {
   "cell_type": "code",
   "execution_count": 18,
   "metadata": {},
   "outputs": [],
   "source": [
    "user_purchases = [63288,10834]"
   ]
  },
  {
   "cell_type": "code",
   "execution_count": 20,
   "metadata": {},
   "outputs": [
    {
     "name": "stdout",
     "output_type": "stream",
     "text": [
      "    index         0\n",
      "0    7881  0.347666\n",
      "1   61603  0.308912\n",
      "2   62040  0.328264\n",
      "3  125830  0.371785\n"
     ]
    }
   ],
   "source": [
    "payload = predict(user_purchases)"
   ]
  },
  {
   "cell_type": "code",
   "execution_count": 16,
   "metadata": {},
   "outputs": [
    {
     "data": {
      "text/plain": [
       "{'product_id': {0: 10834, 1: 63288, 2: 125830, 3: 7881, 4: 61603, 5: 62040},\n",
       " 'score': {0: 0.82, 1: 0.67, 2: 0.67, 3: 0.64, 4: 0.53, 5: 0.49}}"
      ]
     },
     "execution_count": 16,
     "metadata": {},
     "output_type": "execute_result"
    }
   ],
   "source": [
    "payload"
   ]
  },
  {
   "cell_type": "code",
   "execution_count": null,
   "metadata": {},
   "outputs": [],
   "source": []
  }
 ],
 "metadata": {
  "kernelspec": {
   "display_name": "Python 3",
   "language": "python",
   "name": "python3"
  },
  "language_info": {
   "codemirror_mode": {
    "name": "ipython",
    "version": 3
   },
   "file_extension": ".py",
   "mimetype": "text/x-python",
   "name": "python",
   "nbconvert_exporter": "python",
   "pygments_lexer": "ipython3",
   "version": "3.8.5"
  }
 },
 "nbformat": 4,
 "nbformat_minor": 4
}
