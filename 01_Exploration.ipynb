{
 "cells": [
  {
   "cell_type": "code",
   "execution_count": 338,
   "metadata": {},
   "outputs": [],
   "source": [
    "import pandas as pd\n",
    "import seaborn as sns\n",
    "import matplotlib.pyplot as plt\n",
    "import numpy as np\n",
    "import ast\n",
    "import pickle\n",
    "import os\n",
    "from collections import Counter"
   ]
  },
  {
   "cell_type": "code",
   "execution_count": 357,
   "metadata": {},
   "outputs": [],
   "source": [
    "case = pd.read_csv('sample_03.csv')"
   ]
  },
  {
   "cell_type": "markdown",
   "metadata": {},
   "source": [
    "# General Exploration"
   ]
  },
  {
   "cell_type": "code",
   "execution_count": 358,
   "metadata": {},
   "outputs": [
    {
     "data": {
      "text/html": [
       "<div>\n",
       "<style scoped>\n",
       "    .dataframe tbody tr th:only-of-type {\n",
       "        vertical-align: middle;\n",
       "    }\n",
       "\n",
       "    .dataframe tbody tr th {\n",
       "        vertical-align: top;\n",
       "    }\n",
       "\n",
       "    .dataframe thead th {\n",
       "        text-align: right;\n",
       "    }\n",
       "</style>\n",
       "<table border=\"1\" class=\"dataframe\">\n",
       "  <thead>\n",
       "    <tr style=\"text-align: right;\">\n",
       "      <th></th>\n",
       "      <th>revenue</th>\n",
       "      <th>loyalty</th>\n",
       "      <th>days_since_last_contact</th>\n",
       "      <th>gender</th>\n",
       "      <th>person_id</th>\n",
       "      <th>product_ids</th>\n",
       "      <th>0ne.hot.1</th>\n",
       "      <th>0ne.hot.2</th>\n",
       "      <th>0ne.hot.3</th>\n",
       "      <th>0ne.hot.4</th>\n",
       "    </tr>\n",
       "  </thead>\n",
       "  <tbody>\n",
       "    <tr>\n",
       "      <th>0</th>\n",
       "      <td>4</td>\n",
       "      <td>-1.33</td>\n",
       "      <td>2</td>\n",
       "      <td>m</td>\n",
       "      <td>170636bb-3601-4a18-b572-52650c0d2d0e</td>\n",
       "      <td>[7881,10834,61603,62040,63288,125830]</td>\n",
       "      <td>1</td>\n",
       "      <td>0</td>\n",
       "      <td>0</td>\n",
       "      <td>0</td>\n",
       "    </tr>\n",
       "    <tr>\n",
       "      <th>1</th>\n",
       "      <td>6</td>\n",
       "      <td>-0.28</td>\n",
       "      <td>3</td>\n",
       "      <td>m</td>\n",
       "      <td>2a4c9697-b937-4429-9fd3-5529929a1ab9</td>\n",
       "      <td>[10834,61603,62040,63288,125830]</td>\n",
       "      <td>1</td>\n",
       "      <td>0</td>\n",
       "      <td>0</td>\n",
       "      <td>0</td>\n",
       "    </tr>\n",
       "    <tr>\n",
       "      <th>2</th>\n",
       "      <td>5</td>\n",
       "      <td>-0.22</td>\n",
       "      <td>1</td>\n",
       "      <td>w</td>\n",
       "      <td>4d12441d-3748-4b05-81bf-fd24f9f9d6f4</td>\n",
       "      <td>[63288,125830]</td>\n",
       "      <td>1</td>\n",
       "      <td>0</td>\n",
       "      <td>0</td>\n",
       "      <td>0</td>\n",
       "    </tr>\n",
       "    <tr>\n",
       "      <th>3</th>\n",
       "      <td>7</td>\n",
       "      <td>-0.29</td>\n",
       "      <td>0</td>\n",
       "      <td>m</td>\n",
       "      <td>00f173be-96b1-4407-809c-6882e5bbb1fd</td>\n",
       "      <td>[7881,10834]</td>\n",
       "      <td>0</td>\n",
       "      <td>1</td>\n",
       "      <td>0</td>\n",
       "      <td>0</td>\n",
       "    </tr>\n",
       "    <tr>\n",
       "      <th>4</th>\n",
       "      <td>4</td>\n",
       "      <td>1.06</td>\n",
       "      <td>5</td>\n",
       "      <td>m</td>\n",
       "      <td>f5aa1643-398f-4027-ab75-7b72ebe92d90</td>\n",
       "      <td>[7881,10834,62040,63288,125830]</td>\n",
       "      <td>0</td>\n",
       "      <td>0</td>\n",
       "      <td>1</td>\n",
       "      <td>0</td>\n",
       "    </tr>\n",
       "  </tbody>\n",
       "</table>\n",
       "</div>"
      ],
      "text/plain": [
       "   revenue  loyalty  days_since_last_contact gender  \\\n",
       "0        4    -1.33                        2      m   \n",
       "1        6    -0.28                        3      m   \n",
       "2        5    -0.22                        1      w   \n",
       "3        7    -0.29                        0      m   \n",
       "4        4     1.06                        5      m   \n",
       "\n",
       "                              person_id  \\\n",
       "0  170636bb-3601-4a18-b572-52650c0d2d0e   \n",
       "1  2a4c9697-b937-4429-9fd3-5529929a1ab9   \n",
       "2  4d12441d-3748-4b05-81bf-fd24f9f9d6f4   \n",
       "3  00f173be-96b1-4407-809c-6882e5bbb1fd   \n",
       "4  f5aa1643-398f-4027-ab75-7b72ebe92d90   \n",
       "\n",
       "                             product_ids  0ne.hot.1  0ne.hot.2  0ne.hot.3  \\\n",
       "0  [7881,10834,61603,62040,63288,125830]          1          0          0   \n",
       "1       [10834,61603,62040,63288,125830]          1          0          0   \n",
       "2                         [63288,125830]          1          0          0   \n",
       "3                           [7881,10834]          0          1          0   \n",
       "4        [7881,10834,62040,63288,125830]          0          0          1   \n",
       "\n",
       "   0ne.hot.4  \n",
       "0          0  \n",
       "1          0  \n",
       "2          0  \n",
       "3          0  \n",
       "4          0  "
      ]
     },
     "execution_count": 358,
     "metadata": {},
     "output_type": "execute_result"
    }
   ],
   "source": [
    "case.head()"
   ]
  },
  {
   "cell_type": "code",
   "execution_count": 97,
   "metadata": {},
   "outputs": [
    {
     "data": {
      "text/html": [
       "<div>\n",
       "<style scoped>\n",
       "    .dataframe tbody tr th:only-of-type {\n",
       "        vertical-align: middle;\n",
       "    }\n",
       "\n",
       "    .dataframe tbody tr th {\n",
       "        vertical-align: top;\n",
       "    }\n",
       "\n",
       "    .dataframe thead th {\n",
       "        text-align: right;\n",
       "    }\n",
       "</style>\n",
       "<table border=\"1\" class=\"dataframe\">\n",
       "  <thead>\n",
       "    <tr style=\"text-align: right;\">\n",
       "      <th></th>\n",
       "      <th>revenue</th>\n",
       "      <th>loyalty</th>\n",
       "      <th>days_since_last_contact</th>\n",
       "      <th>0ne.hot.1</th>\n",
       "      <th>0ne.hot.2</th>\n",
       "      <th>0ne.hot.3</th>\n",
       "      <th>0ne.hot.4</th>\n",
       "    </tr>\n",
       "  </thead>\n",
       "  <tbody>\n",
       "    <tr>\n",
       "      <th>count</th>\n",
       "      <td>100.000000</td>\n",
       "      <td>100.000000</td>\n",
       "      <td>100.000000</td>\n",
       "      <td>100.000000</td>\n",
       "      <td>100.000000</td>\n",
       "      <td>100.000000</td>\n",
       "      <td>100.000000</td>\n",
       "    </tr>\n",
       "    <tr>\n",
       "      <th>mean</th>\n",
       "      <td>6.420000</td>\n",
       "      <td>-0.000090</td>\n",
       "      <td>6.280000</td>\n",
       "      <td>0.300000</td>\n",
       "      <td>0.220000</td>\n",
       "      <td>0.160000</td>\n",
       "      <td>0.320000</td>\n",
       "    </tr>\n",
       "    <tr>\n",
       "      <th>std</th>\n",
       "      <td>2.527345</td>\n",
       "      <td>1.002703</td>\n",
       "      <td>3.861438</td>\n",
       "      <td>0.460566</td>\n",
       "      <td>0.416333</td>\n",
       "      <td>0.368453</td>\n",
       "      <td>0.468826</td>\n",
       "    </tr>\n",
       "    <tr>\n",
       "      <th>min</th>\n",
       "      <td>1.000000</td>\n",
       "      <td>-1.710000</td>\n",
       "      <td>0.000000</td>\n",
       "      <td>0.000000</td>\n",
       "      <td>0.000000</td>\n",
       "      <td>0.000000</td>\n",
       "      <td>0.000000</td>\n",
       "    </tr>\n",
       "    <tr>\n",
       "      <th>25%</th>\n",
       "      <td>5.000000</td>\n",
       "      <td>-0.742500</td>\n",
       "      <td>3.000000</td>\n",
       "      <td>0.000000</td>\n",
       "      <td>0.000000</td>\n",
       "      <td>0.000000</td>\n",
       "      <td>0.000000</td>\n",
       "    </tr>\n",
       "    <tr>\n",
       "      <th>50%</th>\n",
       "      <td>7.000000</td>\n",
       "      <td>-0.100500</td>\n",
       "      <td>5.000000</td>\n",
       "      <td>0.000000</td>\n",
       "      <td>0.000000</td>\n",
       "      <td>0.000000</td>\n",
       "      <td>0.000000</td>\n",
       "    </tr>\n",
       "    <tr>\n",
       "      <th>75%</th>\n",
       "      <td>8.250000</td>\n",
       "      <td>1.032500</td>\n",
       "      <td>9.000000</td>\n",
       "      <td>1.000000</td>\n",
       "      <td>0.000000</td>\n",
       "      <td>0.000000</td>\n",
       "      <td>1.000000</td>\n",
       "    </tr>\n",
       "    <tr>\n",
       "      <th>max</th>\n",
       "      <td>10.000000</td>\n",
       "      <td>1.400000</td>\n",
       "      <td>14.000000</td>\n",
       "      <td>1.000000</td>\n",
       "      <td>1.000000</td>\n",
       "      <td>1.000000</td>\n",
       "      <td>1.000000</td>\n",
       "    </tr>\n",
       "  </tbody>\n",
       "</table>\n",
       "</div>"
      ],
      "text/plain": [
       "          revenue     loyalty  days_since_last_contact   0ne.hot.1  \\\n",
       "count  100.000000  100.000000               100.000000  100.000000   \n",
       "mean     6.420000   -0.000090                 6.280000    0.300000   \n",
       "std      2.527345    1.002703                 3.861438    0.460566   \n",
       "min      1.000000   -1.710000                 0.000000    0.000000   \n",
       "25%      5.000000   -0.742500                 3.000000    0.000000   \n",
       "50%      7.000000   -0.100500                 5.000000    0.000000   \n",
       "75%      8.250000    1.032500                 9.000000    1.000000   \n",
       "max     10.000000    1.400000                14.000000    1.000000   \n",
       "\n",
       "        0ne.hot.2   0ne.hot.3   0ne.hot.4  \n",
       "count  100.000000  100.000000  100.000000  \n",
       "mean     0.220000    0.160000    0.320000  \n",
       "std      0.416333    0.368453    0.468826  \n",
       "min      0.000000    0.000000    0.000000  \n",
       "25%      0.000000    0.000000    0.000000  \n",
       "50%      0.000000    0.000000    0.000000  \n",
       "75%      0.000000    0.000000    1.000000  \n",
       "max      1.000000    1.000000    1.000000  "
      ]
     },
     "execution_count": 97,
     "metadata": {},
     "output_type": "execute_result"
    }
   ],
   "source": [
    "# Look at summary statistics\n",
    "case.describe()"
   ]
  },
  {
   "cell_type": "code",
   "execution_count": 98,
   "metadata": {},
   "outputs": [
    {
     "data": {
      "text/plain": [
       "revenue                    0\n",
       "loyalty                    0\n",
       "days_since_last_contact    0\n",
       "gender                     0\n",
       "person_id                  0\n",
       "product_ids                0\n",
       "0ne.hot.1                  0\n",
       "0ne.hot.2                  0\n",
       "0ne.hot.3                  0\n",
       "0ne.hot.4                  0\n",
       "dtype: int64"
      ]
     },
     "execution_count": 98,
     "metadata": {},
     "output_type": "execute_result"
    }
   ],
   "source": [
    "# Check NANs, no missing values anywhere so the data has been prepped in some way\n",
    "case.isna().sum()"
   ]
  },
  {
   "cell_type": "code",
   "execution_count": 99,
   "metadata": {},
   "outputs": [
    {
     "data": {
      "text/plain": [
       "revenue                      int64\n",
       "loyalty                    float64\n",
       "days_since_last_contact      int64\n",
       "gender                      object\n",
       "person_id                   object\n",
       "product_ids                 object\n",
       "0ne.hot.1                    int64\n",
       "0ne.hot.2                    int64\n",
       "0ne.hot.3                    int64\n",
       "0ne.hot.4                    int64\n",
       "dtype: object"
      ]
     },
     "execution_count": 99,
     "metadata": {},
     "output_type": "execute_result"
    }
   ],
   "source": [
    "case.dtypes"
   ]
  },
  {
   "cell_type": "code",
   "execution_count": 100,
   "metadata": {},
   "outputs": [
    {
     "data": {
      "text/plain": [
       "<seaborn.axisgrid.PairGrid at 0x11e9c5490>"
      ]
     },
     "execution_count": 100,
     "metadata": {},
     "output_type": "execute_result"
    },
    {
     "data": {
      "image/png": "[encoded data removed]",
      "text/plain": [
       "<Figure size 1260x1260 with 56 Axes>"
      ]
     },
     "metadata": {
      "needs_background": "light"
     },
     "output_type": "display_data"
    }
   ],
   "source": [
    "sns.pairplot(case)"
   ]
  },
  {
   "cell_type": "code",
   "execution_count": 343,
   "metadata": {},
   "outputs": [
    {
     "data": {
      "text/plain": [
       "49"
      ]
     },
     "execution_count": 343,
     "metadata": {},
     "output_type": "execute_result"
    }
   ],
   "source": [
    "# Check Gender Balance\n",
    "sum(case.gender == 'w')"
   ]
  },
  {
   "cell_type": "code",
   "execution_count": 362,
   "metadata": {},
   "outputs": [
    {
     "data": {
      "text/html": [
       "<div>\n",
       "<style scoped>\n",
       "    .dataframe tbody tr th:only-of-type {\n",
       "        vertical-align: middle;\n",
       "    }\n",
       "\n",
       "    .dataframe tbody tr th {\n",
       "        vertical-align: top;\n",
       "    }\n",
       "\n",
       "    .dataframe thead th {\n",
       "        text-align: right;\n",
       "    }\n",
       "</style>\n",
       "<table border=\"1\" class=\"dataframe\">\n",
       "  <thead>\n",
       "    <tr style=\"text-align: right;\">\n",
       "      <th></th>\n",
       "      <th>revenue</th>\n",
       "      <th>loyalty</th>\n",
       "      <th>days_since_last_contact</th>\n",
       "      <th>0ne.hot.1</th>\n",
       "      <th>0ne.hot.2</th>\n",
       "      <th>0ne.hot.3</th>\n",
       "      <th>0ne.hot.4</th>\n",
       "    </tr>\n",
       "  </thead>\n",
       "  <tbody>\n",
       "    <tr>\n",
       "      <th>revenue</th>\n",
       "      <td>1.000000</td>\n",
       "      <td>0.460516</td>\n",
       "      <td>0.157572</td>\n",
       "      <td>-0.630006</td>\n",
       "      <td>0.391285</td>\n",
       "      <td>-0.333226</td>\n",
       "      <td>0.533317</td>\n",
       "    </tr>\n",
       "    <tr>\n",
       "      <th>loyalty</th>\n",
       "      <td>0.460516</td>\n",
       "      <td>1.000000</td>\n",
       "      <td>0.552121</td>\n",
       "      <td>-0.759576</td>\n",
       "      <td>-0.083962</td>\n",
       "      <td>0.331683</td>\n",
       "      <td>0.560084</td>\n",
       "    </tr>\n",
       "    <tr>\n",
       "      <th>days_since_last_contact</th>\n",
       "      <td>0.157572</td>\n",
       "      <td>0.552121</td>\n",
       "      <td>1.000000</td>\n",
       "      <td>-0.308974</td>\n",
       "      <td>-0.371709</td>\n",
       "      <td>0.152783</td>\n",
       "      <td>0.513547</td>\n",
       "    </tr>\n",
       "    <tr>\n",
       "      <th>0ne.hot.1</th>\n",
       "      <td>-0.630006</td>\n",
       "      <td>-0.759576</td>\n",
       "      <td>-0.308974</td>\n",
       "      <td>1.000000</td>\n",
       "      <td>-0.347677</td>\n",
       "      <td>-0.285714</td>\n",
       "      <td>-0.449089</td>\n",
       "    </tr>\n",
       "    <tr>\n",
       "      <th>0ne.hot.2</th>\n",
       "      <td>0.391285</td>\n",
       "      <td>-0.083962</td>\n",
       "      <td>-0.371709</td>\n",
       "      <td>-0.347677</td>\n",
       "      <td>1.000000</td>\n",
       "      <td>-0.231784</td>\n",
       "      <td>-0.364321</td>\n",
       "    </tr>\n",
       "    <tr>\n",
       "      <th>0ne.hot.3</th>\n",
       "      <td>-0.333226</td>\n",
       "      <td>0.331683</td>\n",
       "      <td>0.152783</td>\n",
       "      <td>-0.285714</td>\n",
       "      <td>-0.231784</td>\n",
       "      <td>1.000000</td>\n",
       "      <td>-0.299392</td>\n",
       "    </tr>\n",
       "    <tr>\n",
       "      <th>0ne.hot.4</th>\n",
       "      <td>0.533317</td>\n",
       "      <td>0.560084</td>\n",
       "      <td>0.513547</td>\n",
       "      <td>-0.449089</td>\n",
       "      <td>-0.364321</td>\n",
       "      <td>-0.299392</td>\n",
       "      <td>1.000000</td>\n",
       "    </tr>\n",
       "  </tbody>\n",
       "</table>\n",
       "</div>"
      ],
      "text/plain": [
       "                          revenue   loyalty  days_since_last_contact  \\\n",
       "revenue                  1.000000  0.460516                 0.157572   \n",
       "loyalty                  0.460516  1.000000                 0.552121   \n",
       "days_since_last_contact  0.157572  0.552121                 1.000000   \n",
       "0ne.hot.1               -0.630006 -0.759576                -0.308974   \n",
       "0ne.hot.2                0.391285 -0.083962                -0.371709   \n",
       "0ne.hot.3               -0.333226  0.331683                 0.152783   \n",
       "0ne.hot.4                0.533317  0.560084                 0.513547   \n",
       "\n",
       "                         0ne.hot.1  0ne.hot.2  0ne.hot.3  0ne.hot.4  \n",
       "revenue                  -0.630006   0.391285  -0.333226   0.533317  \n",
       "loyalty                  -0.759576  -0.083962   0.331683   0.560084  \n",
       "days_since_last_contact  -0.308974  -0.371709   0.152783   0.513547  \n",
       "0ne.hot.1                 1.000000  -0.347677  -0.285714  -0.449089  \n",
       "0ne.hot.2                -0.347677   1.000000  -0.231784  -0.364321  \n",
       "0ne.hot.3                -0.285714  -0.231784   1.000000  -0.299392  \n",
       "0ne.hot.4                -0.449089  -0.364321  -0.299392   1.000000  "
      ]
     },
     "execution_count": 362,
     "metadata": {},
     "output_type": "execute_result"
    }
   ],
   "source": [
    "case.corr()"
   ]
  },
  {
   "cell_type": "code",
   "execution_count": 348,
   "metadata": {},
   "outputs": [],
   "source": [
    "case['gender_binary'] = [int(x) for x in case.gender == 'w']"
   ]
  },
  {
   "cell_type": "code",
   "execution_count": 354,
   "metadata": {},
   "outputs": [
    {
     "data": {
      "text/html": [
       "<div>\n",
       "<style scoped>\n",
       "    .dataframe tbody tr th:only-of-type {\n",
       "        vertical-align: middle;\n",
       "    }\n",
       "\n",
       "    .dataframe tbody tr th {\n",
       "        vertical-align: top;\n",
       "    }\n",
       "\n",
       "    .dataframe thead th {\n",
       "        text-align: right;\n",
       "    }\n",
       "</style>\n",
       "<table border=\"1\" class=\"dataframe\">\n",
       "  <thead>\n",
       "    <tr style=\"text-align: right;\">\n",
       "      <th></th>\n",
       "      <th>gender_binary</th>\n",
       "    </tr>\n",
       "    <tr>\n",
       "      <th>revenue</th>\n",
       "      <th></th>\n",
       "    </tr>\n",
       "  </thead>\n",
       "  <tbody>\n",
       "    <tr>\n",
       "      <th>1</th>\n",
       "      <td>4</td>\n",
       "    </tr>\n",
       "    <tr>\n",
       "      <th>2</th>\n",
       "      <td>3</td>\n",
       "    </tr>\n",
       "    <tr>\n",
       "      <th>3</th>\n",
       "      <td>3</td>\n",
       "    </tr>\n",
       "    <tr>\n",
       "      <th>4</th>\n",
       "      <td>0</td>\n",
       "    </tr>\n",
       "    <tr>\n",
       "      <th>5</th>\n",
       "      <td>11</td>\n",
       "    </tr>\n",
       "    <tr>\n",
       "      <th>6</th>\n",
       "      <td>0</td>\n",
       "    </tr>\n",
       "    <tr>\n",
       "      <th>7</th>\n",
       "      <td>0</td>\n",
       "    </tr>\n",
       "    <tr>\n",
       "      <th>8</th>\n",
       "      <td>10</td>\n",
       "    </tr>\n",
       "    <tr>\n",
       "      <th>9</th>\n",
       "      <td>12</td>\n",
       "    </tr>\n",
       "    <tr>\n",
       "      <th>10</th>\n",
       "      <td>6</td>\n",
       "    </tr>\n",
       "  </tbody>\n",
       "</table>\n",
       "</div>"
      ],
      "text/plain": [
       "         gender_binary\n",
       "revenue               \n",
       "1                    4\n",
       "2                    3\n",
       "3                    3\n",
       "4                    0\n",
       "5                   11\n",
       "6                    0\n",
       "7                    0\n",
       "8                   10\n",
       "9                   12\n",
       "10                   6"
      ]
     },
     "execution_count": 354,
     "metadata": {},
     "output_type": "execute_result"
    }
   ],
   "source": [
    "case[['revenue', 'gender_binary']].groupby('revenue').sum()"
   ]
  },
  {
   "cell_type": "markdown",
   "metadata": {},
   "source": [
    "## Each Column"
   ]
  },
  {
   "cell_type": "markdown",
   "metadata": {},
   "source": [
    "### Revenue"
   ]
  },
  {
   "cell_type": "markdown",
   "metadata": {},
   "source": [
    "### loyalty"
   ]
  },
  {
   "cell_type": "code",
   "execution_count": 101,
   "metadata": {},
   "outputs": [
    {
     "data": {
      "image/png": "[encoded data removed]",
      "text/plain": [
       "<Figure size 432x288 with 1 Axes>"
      ]
     },
     "metadata": {
      "needs_background": "light"
     },
     "output_type": "display_data"
    }
   ],
   "source": [
    "# has mean near zero and standard deviation of 1, but it not normal\n",
    "\n",
    "case.loyalty.hist()\n",
    "fig = case.loyalty.hist().get_figure()\n",
    "\n",
    "#fig.savefig('plots/loyalty_histogram.png')"
   ]
  },
  {
   "cell_type": "code",
   "execution_count": 356,
   "metadata": {},
   "outputs": [
    {
     "data": {
      "text/plain": [
       "<AxesSubplot:>"
      ]
     },
     "execution_count": 356,
     "metadata": {},
     "output_type": "execute_result"
    },
    {
     "data": {
      "image/png": "[encoded data removed]",
      "text/plain": [
       "<Figure size 432x288 with 1 Axes>"
      ]
     },
     "metadata": {
      "needs_background": "light"
     },
     "output_type": "display_data"
    }
   ],
   "source": [
    "# Check to see if it it was transformed with logarithm\n",
    "case.loyalty.apply(lambda x: np.exp(x)).hist()"
   ]
  },
  {
   "cell_type": "markdown",
   "metadata": {},
   "source": [
    "### days_since_last_contact"
   ]
  },
  {
   "cell_type": "code",
   "execution_count": 85,
   "metadata": {},
   "outputs": [
    {
     "data": {
      "text/plain": [
       "<AxesSubplot:>"
      ]
     },
     "execution_count": 85,
     "metadata": {},
     "output_type": "execute_result"
    },
    {
     "data": {
      "image/png": "[encoded data removed]",
      "text/plain": [
       "<Figure size 432x288 with 1 Axes>"
      ]
     },
     "metadata": {
      "needs_background": "light"
     },
     "output_type": "display_data"
    }
   ],
   "source": [
    "# strangely missing days 7-8, doesn't make sense for a weekly schedule\n",
    "case.days_since_last_contact.hist(bins=14)"
   ]
  },
  {
   "cell_type": "markdown",
   "metadata": {},
   "source": [
    "### product_ids"
   ]
  },
  {
   "cell_type": "code",
   "execution_count": 80,
   "metadata": {},
   "outputs": [
    {
     "data": {
      "text/plain": [
       "0"
      ]
     },
     "execution_count": 80,
     "metadata": {},
     "output_type": "execute_result"
    }
   ],
   "source": [
    "# Check if any list of products contains duplicates\n",
    "# return 1 if there are two items of the same value\n",
    "duplicates = lambda x: int(len(x) != len(set(x)))\n",
    "# any lists with duplicates? \n",
    "sum([duplicates(id_list) for id_list in prod_id_lists])"
   ]
  },
  {
   "cell_type": "code",
   "execution_count": 316,
   "metadata": {},
   "outputs": [
    {
     "data": {
      "text/plain": [
       "<BarContainer object of 6 artists>"
      ]
     },
     "execution_count": 316,
     "metadata": {},
     "output_type": "execute_result"
    },
    {
     "data": {
      "image/png": "[encoded data removed]",
      "text/plain": [
       "<Figure size 432x288 with 1 Axes>"
      ]
     },
     "metadata": {
      "needs_background": "light"
     },
     "output_type": "display_data"
    }
   ],
   "source": [
    "# check to see the distribution of each item across all customers\n",
    "prod_id_lists = list(map(eval,case.product_ids.to_list()))\n",
    "\n",
    "flatten = lambda l: [item for sublist in l for item in sublist]\n",
    "\n",
    "prod_id_flat_list = flatten(prod_id_lists)\n",
    "\n",
    "\n",
    "cnt = Counter()\n",
    "for product_id in prod_id_flat_list:\n",
    "    cnt[str(product_id)] += 1\n",
    "\n",
    "plt.bar(cnt.keys(),cnt.values())"
   ]
  },
  {
   "cell_type": "code",
   "execution_count": 317,
   "metadata": {},
   "outputs": [
    {
     "data": {
      "text/plain": [
       "Counter({'7881': 64,\n",
       "         '10834': 82,\n",
       "         '61603': 53,\n",
       "         '62040': 49,\n",
       "         '63288': 67,\n",
       "         '125830': 67})"
      ]
     },
     "execution_count": 317,
     "metadata": {},
     "output_type": "execute_result"
    }
   ],
   "source": [
    "cnt"
   ]
  },
  {
   "cell_type": "code",
   "execution_count": 318,
   "metadata": {},
   "outputs": [],
   "source": [
    "possible_IDs = sorted(list(set(prod_id_flat_list)))"
   ]
  },
  {
   "cell_type": "code",
   "execution_count": 319,
   "metadata": {},
   "outputs": [
    {
     "data": {
      "text/plain": [
       "[7881, 10834, 61603, 62040, 63288, 125830]"
      ]
     },
     "execution_count": 319,
     "metadata": {},
     "output_type": "execute_result"
    }
   ],
   "source": [
    "possible_IDs"
   ]
  },
  {
   "cell_type": "code",
   "execution_count": 320,
   "metadata": {},
   "outputs": [],
   "source": [
    "pickle.dump( possible_IDs, open( \"possible_ids.p\", \"wb\" ))"
   ]
  },
  {
   "cell_type": "markdown",
   "metadata": {},
   "source": [
    "### one hots"
   ]
  },
  {
   "cell_type": "code",
   "execution_count": 363,
   "metadata": {},
   "outputs": [
    {
     "data": {
      "text/plain": [
       "0"
      ]
     },
     "execution_count": 363,
     "metadata": {},
     "output_type": "execute_result"
    }
   ],
   "source": [
    "# I want to drop the id of people as that will not be useful to create any model, but I want to make sure there are no duplicates first.\n",
    "case.person_id.duplicated().sum()"
   ]
  },
  {
   "cell_type": "code",
   "execution_count": 103,
   "metadata": {},
   "outputs": [],
   "source": [
    "case = case.drop('person_id',axis=1)"
   ]
  },
  {
   "cell_type": "code",
   "execution_count": 298,
   "metadata": {},
   "outputs": [],
   "source": [
    "# turn gender into numeric value\n",
    "# woman will be counted as 1\n",
    "case.loc[:,'gender'] = case.loc[:,'gender'] == 'w'\n",
    "case.loc[:,'gender'] = case.loc[:,'gender'].astype('int32')"
   ]
  },
  {
   "cell_type": "code",
   "execution_count": 323,
   "metadata": {},
   "outputs": [
    {
     "data": {
      "text/html": [
       "<div>\n",
       "<style scoped>\n",
       "    .dataframe tbody tr th:only-of-type {\n",
       "        vertical-align: middle;\n",
       "    }\n",
       "\n",
       "    .dataframe tbody tr th {\n",
       "        vertical-align: top;\n",
       "    }\n",
       "\n",
       "    .dataframe thead th {\n",
       "        text-align: right;\n",
       "    }\n",
       "</style>\n",
       "<table border=\"1\" class=\"dataframe\">\n",
       "  <thead>\n",
       "    <tr style=\"text-align: right;\">\n",
       "      <th></th>\n",
       "      <th>revenue</th>\n",
       "      <th>loyalty</th>\n",
       "      <th>days_since_last_contact</th>\n",
       "      <th>gender</th>\n",
       "      <th>product_ids</th>\n",
       "      <th>0ne.hot.1</th>\n",
       "      <th>0ne.hot.2</th>\n",
       "      <th>0ne.hot.3</th>\n",
       "      <th>0ne.hot.4</th>\n",
       "    </tr>\n",
       "  </thead>\n",
       "  <tbody>\n",
       "    <tr>\n",
       "      <th>0</th>\n",
       "      <td>4</td>\n",
       "      <td>-1.33</td>\n",
       "      <td>2</td>\n",
       "      <td>0</td>\n",
       "      <td>[7881,10834,61603,62040,63288,125830]</td>\n",
       "      <td>1</td>\n",
       "      <td>0</td>\n",
       "      <td>0</td>\n",
       "      <td>0</td>\n",
       "    </tr>\n",
       "    <tr>\n",
       "      <th>1</th>\n",
       "      <td>6</td>\n",
       "      <td>-0.28</td>\n",
       "      <td>3</td>\n",
       "      <td>0</td>\n",
       "      <td>[10834,61603,62040,63288,125830]</td>\n",
       "      <td>1</td>\n",
       "      <td>0</td>\n",
       "      <td>0</td>\n",
       "      <td>0</td>\n",
       "    </tr>\n",
       "    <tr>\n",
       "      <th>2</th>\n",
       "      <td>5</td>\n",
       "      <td>-0.22</td>\n",
       "      <td>1</td>\n",
       "      <td>1</td>\n",
       "      <td>[63288,125830]</td>\n",
       "      <td>1</td>\n",
       "      <td>0</td>\n",
       "      <td>0</td>\n",
       "      <td>0</td>\n",
       "    </tr>\n",
       "    <tr>\n",
       "      <th>3</th>\n",
       "      <td>7</td>\n",
       "      <td>-0.29</td>\n",
       "      <td>0</td>\n",
       "      <td>0</td>\n",
       "      <td>[7881,10834]</td>\n",
       "      <td>0</td>\n",
       "      <td>1</td>\n",
       "      <td>0</td>\n",
       "      <td>0</td>\n",
       "    </tr>\n",
       "    <tr>\n",
       "      <th>4</th>\n",
       "      <td>4</td>\n",
       "      <td>1.06</td>\n",
       "      <td>5</td>\n",
       "      <td>0</td>\n",
       "      <td>[7881,10834,62040,63288,125830]</td>\n",
       "      <td>0</td>\n",
       "      <td>0</td>\n",
       "      <td>1</td>\n",
       "      <td>0</td>\n",
       "    </tr>\n",
       "    <tr>\n",
       "      <th>...</th>\n",
       "      <td>...</td>\n",
       "      <td>...</td>\n",
       "      <td>...</td>\n",
       "      <td>...</td>\n",
       "      <td>...</td>\n",
       "      <td>...</td>\n",
       "      <td>...</td>\n",
       "      <td>...</td>\n",
       "      <td>...</td>\n",
       "    </tr>\n",
       "    <tr>\n",
       "      <th>95</th>\n",
       "      <td>5</td>\n",
       "      <td>-0.22</td>\n",
       "      <td>1</td>\n",
       "      <td>1</td>\n",
       "      <td>[63288,125830]</td>\n",
       "      <td>0</td>\n",
       "      <td>1</td>\n",
       "      <td>0</td>\n",
       "      <td>0</td>\n",
       "    </tr>\n",
       "    <tr>\n",
       "      <th>96</th>\n",
       "      <td>5</td>\n",
       "      <td>-0.29</td>\n",
       "      <td>5</td>\n",
       "      <td>0</td>\n",
       "      <td>[63288,125830]</td>\n",
       "      <td>0</td>\n",
       "      <td>0</td>\n",
       "      <td>0</td>\n",
       "      <td>1</td>\n",
       "    </tr>\n",
       "    <tr>\n",
       "      <th>97</th>\n",
       "      <td>8</td>\n",
       "      <td>1.09</td>\n",
       "      <td>9</td>\n",
       "      <td>1</td>\n",
       "      <td>[7881,10834]</td>\n",
       "      <td>0</td>\n",
       "      <td>0</td>\n",
       "      <td>0</td>\n",
       "      <td>1</td>\n",
       "    </tr>\n",
       "    <tr>\n",
       "      <th>98</th>\n",
       "      <td>1</td>\n",
       "      <td>-1.69</td>\n",
       "      <td>12</td>\n",
       "      <td>1</td>\n",
       "      <td>[7881,10834,62040,63288,125830]</td>\n",
       "      <td>1</td>\n",
       "      <td>0</td>\n",
       "      <td>0</td>\n",
       "      <td>0</td>\n",
       "    </tr>\n",
       "    <tr>\n",
       "      <th>99</th>\n",
       "      <td>3</td>\n",
       "      <td>-1.71</td>\n",
       "      <td>1</td>\n",
       "      <td>0</td>\n",
       "      <td>[7881,10834,61603]</td>\n",
       "      <td>1</td>\n",
       "      <td>0</td>\n",
       "      <td>0</td>\n",
       "      <td>0</td>\n",
       "    </tr>\n",
       "  </tbody>\n",
       "</table>\n",
       "<p>100 rows × 9 columns</p>\n",
       "</div>"
      ],
      "text/plain": [
       "    revenue  loyalty  days_since_last_contact  gender  \\\n",
       "0         4    -1.33                        2       0   \n",
       "1         6    -0.28                        3       0   \n",
       "2         5    -0.22                        1       1   \n",
       "3         7    -0.29                        0       0   \n",
       "4         4     1.06                        5       0   \n",
       "..      ...      ...                      ...     ...   \n",
       "95        5    -0.22                        1       1   \n",
       "96        5    -0.29                        5       0   \n",
       "97        8     1.09                        9       1   \n",
       "98        1    -1.69                       12       1   \n",
       "99        3    -1.71                        1       0   \n",
       "\n",
       "                              product_ids  0ne.hot.1  0ne.hot.2  0ne.hot.3  \\\n",
       "0   [7881,10834,61603,62040,63288,125830]          1          0          0   \n",
       "1        [10834,61603,62040,63288,125830]          1          0          0   \n",
       "2                          [63288,125830]          1          0          0   \n",
       "3                            [7881,10834]          0          1          0   \n",
       "4         [7881,10834,62040,63288,125830]          0          0          1   \n",
       "..                                    ...        ...        ...        ...   \n",
       "95                         [63288,125830]          0          1          0   \n",
       "96                         [63288,125830]          0          0          0   \n",
       "97                           [7881,10834]          0          0          0   \n",
       "98        [7881,10834,62040,63288,125830]          1          0          0   \n",
       "99                     [7881,10834,61603]          1          0          0   \n",
       "\n",
       "    0ne.hot.4  \n",
       "0           0  \n",
       "1           0  \n",
       "2           0  \n",
       "3           0  \n",
       "4           0  \n",
       "..        ...  \n",
       "95          0  \n",
       "96          1  \n",
       "97          1  \n",
       "98          0  \n",
       "99          0  \n",
       "\n",
       "[100 rows x 9 columns]"
      ]
     },
     "execution_count": 323,
     "metadata": {},
     "output_type": "execute_result"
    }
   ],
   "source": [
    "# convert \n",
    "case"
   ]
  },
  {
   "cell_type": "markdown",
   "metadata": {},
   "source": [
    "## Add number of items purchased"
   ]
  },
  {
   "cell_type": "code",
   "execution_count": 336,
   "metadata": {},
   "outputs": [],
   "source": [
    "case[\"item_count\"]=case.product_ids.apply(lambda x:len(eval(x)))"
   ]
  },
  {
   "cell_type": "code",
   "execution_count": 337,
   "metadata": {},
   "outputs": [],
   "source": [
    "pickle.dump(case,open('Migros/cleaned_data.p',\"wb\"))"
   ]
  },
  {
   "cell_type": "code",
   "execution_count": null,
   "metadata": {},
   "outputs": [],
   "source": []
  },
  {
   "cell_type": "code",
   "execution_count": null,
   "metadata": {},
   "outputs": [],
   "source": []
  }
 ],
 "metadata": {
  "kernelspec": {
   "display_name": "Python 3",
   "language": "python",
   "name": "python3"
  },
  "language_info": {
   "codemirror_mode": {
    "name": "ipython",
    "version": 3
   },
   "file_extension": ".py",
   "mimetype": "text/x-python",
   "name": "python",
   "nbconvert_exporter": "python",
   "pygments_lexer": "ipython3",
   "version": "3.8.5"
  }
 },
 "nbformat": 4,
 "nbformat_minor": 4
}
